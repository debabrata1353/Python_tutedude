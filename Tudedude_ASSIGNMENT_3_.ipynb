{
  "nbformat": 4,
  "nbformat_minor": 0,
  "metadata": {
    "colab": {
      "provenance": [],
      "toc_visible": true,
      "authorship_tag": "ABX9TyNcYWlS14cCEsPO81hzhmmq",
      "include_colab_link": true
    },
    "kernelspec": {
      "name": "python3",
      "display_name": "Python 3"
    },
    "language_info": {
      "name": "python"
    }
  },
  "cells": [
    {
      "cell_type": "markdown",
      "metadata": {
        "id": "view-in-github",
        "colab_type": "text"
      },
      "source": [
        "<a href=\"https://colab.research.google.com/github/debabrata1353/Python_tutedude/blob/main/Tudedude_ASSIGNMENT_3_.ipynb\" target=\"_parent\"><img src=\"https://colab.research.google.com/assets/colab-badge.svg\" alt=\"Open In Colab\"/></a>"
      ]
    },
    {
      "cell_type": "code",
      "execution_count": 7,
      "metadata": {
        "colab": {
          "base_uri": "https://localhost:8080/"
        },
        "id": "CZs9vKOO8GA5",
        "outputId": "587b109e-ee74-4521-d429-2ad089a66b5a"
      },
      "outputs": [
        {
          "output_type": "stream",
          "name": "stdout",
          "text": [
            "Enter the number: 10\n",
            "The factorial of 10 is 3628800\n"
          ]
        }
      ],
      "source": [
        "'''\n",
        "Task 1: Calculate Factorial Using a Function\n",
        "\n",
        "\n",
        "Problem Statement: Write a Python program that:\n",
        "1.   Defines a function named factorial that takes a number as an argument\n",
        "and calculates its factorial using a loop or recursion.\n",
        "2.   Returns the calculated factorial.\n",
        "3.   Calls the function with a sample number and prints the output.\n",
        "'''\n",
        "\n",
        "\n",
        "\n",
        "def facto(n):\n",
        "  if n < 0:\n",
        "    return None\n",
        "  elif n == 0:\n",
        "    return 1\n",
        "  else:\n",
        "    result = 1\n",
        "    for i in range(1, n + 1):\n",
        "      result *= i\n",
        "    return result\n",
        "\n",
        "# Call the function with a sample number\n",
        "num = int(input(\"Enter the number: \"))\n",
        "fact = facto(num)\n",
        "\n",
        "# Print the output\n",
        "if fact is not None:\n",
        "  print(f\"The factorial of {num} is {fact}\")\n",
        "else:\n",
        "  print(f\"Factorial is not defined for negative numbers.\")\n"
      ]
    },
    {
      "cell_type": "code",
      "source": [
        "'''Task 2: Using the Math Module for Calculations\n",
        "\n",
        "Problem Statement: Write a Python program that:\n",
        "1.   Asks the user for a number as input.\n",
        "2.   Uses the math module to calculate the:\n",
        "o   Square root of the number\n",
        "o   Natural logarithm (log base e) of the number\n",
        "o   Sine of the number (in radians)\n",
        "3.   Displays the calculated results.\n",
        "'''\n",
        "\n",
        "def calc(n):\n",
        "  import math\n",
        "  square_root = math.sqrt(n)\n",
        "  natural_log = math.log(n)\n",
        "  sine = math.sin(n)\n",
        "  return (\"Square root: \",square_root, \"Natural log: \",natural_log, \"Sine Log: \",sine)\n",
        "\n",
        "num=int(input(\"Enter a number: \"))\n",
        "print(calc(num))\n"
      ],
      "metadata": {
        "colab": {
          "base_uri": "https://localhost:8080/"
        },
        "id": "J95mIbFs-JsW",
        "outputId": "b994eae3-3170-4b7e-cc47-f09c20475d56"
      },
      "execution_count": 12,
      "outputs": [
        {
          "output_type": "stream",
          "name": "stdout",
          "text": [
            "Enter a number: 5\n",
            "('Square root: ', 2.23606797749979, 'Natural log: ', 1.6094379124341003, 'Sine Log: ', -0.9589242746631385)\n"
          ]
        }
      ]
    }
  ]
}