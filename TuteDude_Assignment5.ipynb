{
  "nbformat": 4,
  "nbformat_minor": 0,
  "metadata": {
    "colab": {
      "provenance": [],
      "authorship_tag": "ABX9TyMzl3c9p51ViwW1pZR390B1",
      "include_colab_link": true
    },
    "kernelspec": {
      "name": "python3",
      "display_name": "Python 3"
    },
    "language_info": {
      "name": "python"
    }
  },
  "cells": [
    {
      "cell_type": "markdown",
      "metadata": {
        "id": "view-in-github",
        "colab_type": "text"
      },
      "source": [
        "<a href=\"https://colab.research.google.com/github/debabrata1353/Python_tutedude/blob/main/TuteDude_Assignment5.ipynb\" target=\"_parent\"><img src=\"https://colab.research.google.com/assets/colab-badge.svg\" alt=\"Open In Colab\"/></a>"
      ]
    },
    {
      "cell_type": "code",
      "execution_count": 12,
      "metadata": {
        "colab": {
          "base_uri": "https://localhost:8080/"
        },
        "id": "gwkAbMk5JMRO",
        "outputId": "8cda7ff7-5b79-4fe7-c605-cc83b4d19f06"
      },
      "outputs": [
        {
          "name": "stdout",
          "output_type": "stream",
          "text": [
            "Name of students present in the dictionary are:\n",
            "John\n",
            "Mike\n",
            "Jason\n",
            "Sam\n",
            "Enter the student's name: jason\n",
            "strudent name not found\n",
            "Exit? (Y/N)n\n",
            "Enter the student's name: Jason\n",
            "Jason's marks: 48\n",
            "Exit? (Y/N)N\n",
            "Enter the student's name: Paul\n",
            "strudent name not found\n",
            "Exit? (Y/N)Y\n"
          ]
        }
      ],
      "source": [
        "'''\n",
        "Task 1: Create a Dictionary of Student Marks\n",
        "\n",
        "Problem Statement: Write a Python program that:\n",
        "1.   Creates a dictionary where student names are keys and their marks are values.\n",
        "2.   Asks the user to input a student's name.\n",
        "3.   Retrieves and displays the corresponding marks.\n",
        "4.   If the student’s name is not found, display an appropriate message.\n",
        "'''\n",
        "studentName={'John':50,'Mike':45,'Jason':48,'Sam':42}\n",
        "print(\"Name of students present in the dictionary are:\")\n",
        "for i in studentName:\n",
        "  print(i)\n",
        "status=''\n",
        "while status=='':\n",
        "  name=input(\"Enter the student's name: \")\n",
        "  if name in studentName:\n",
        "    print(\"{}'s marks: {}\".format(name,studentName[name]))\n",
        "  else:\n",
        "    print(\"strudent name not found\")\n",
        "  sts=input(\"Exit? (Y/N)\")\n",
        "  if sts=='Y':\n",
        "    break\n",
        "  else:\n",
        "    status=''"
      ]
    },
    {
      "cell_type": "code",
      "source": [
        "'''\n",
        "Task 2: Demonstrate List Slicing\n",
        "Problem Statement: Write a Python program that:\n",
        "1.   Creates a list of numbers from 1 to 10.\n",
        "2.   Extracts the first five elements from the list.\n",
        "3.   Reverses these extracted elements.\n",
        "4.   Prints both the extracted list and the reversed list\n",
        "'''\n",
        "lst=[1,2,3,4,5,6,7,8,9,10]\n",
        "first_five=[]\n",
        "rev_first_five=[]\n",
        "print(\"Original list\",lst)\n",
        "for ele in range(0,len(lst)):\n",
        "  if ele<5:\n",
        "    first_five.append(lst[ele])\n",
        "print(\"Extracted first five elements: \",first_five)\n",
        "print(\"Reversed extracted elements: \", first_five[-1::-1])\n"
      ],
      "metadata": {
        "colab": {
          "base_uri": "https://localhost:8080/"
        },
        "id": "euok_eyeMXJV",
        "outputId": "5d6e6d84-22d1-4233-aaf6-6d495141e087"
      },
      "execution_count": 17,
      "outputs": [
        {
          "output_type": "stream",
          "name": "stdout",
          "text": [
            "Original list [1, 2, 3, 4, 5, 6, 7, 8, 9, 10]\n",
            "Extracted first five elements:  [1, 2, 3, 4, 5]\n",
            "Reversed extracted elements:  [5, 4, 3, 2, 1]\n"
          ]
        }
      ]
    }
  ]
}