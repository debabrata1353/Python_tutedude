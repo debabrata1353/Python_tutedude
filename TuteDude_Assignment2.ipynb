{
  "nbformat": 4,
  "nbformat_minor": 0,
  "metadata": {
    "colab": {
      "provenance": [],
      "authorship_tag": "ABX9TyP9Gcpb8+JHLiv0S9hRMFS7",
      "include_colab_link": true
    },
    "kernelspec": {
      "name": "python3",
      "display_name": "Python 3"
    },
    "language_info": {
      "name": "python"
    }
  },
  "cells": [
    {
      "cell_type": "markdown",
      "metadata": {
        "id": "view-in-github",
        "colab_type": "text"
      },
      "source": [
        "<a href=\"https://colab.research.google.com/github/debabrata1353/Python_tutedude/blob/main/TuteDude_Assignment2.ipynb\" target=\"_parent\"><img src=\"https://colab.research.google.com/assets/colab-badge.svg\" alt=\"Open In Colab\"/></a>"
      ]
    },
    {
      "cell_type": "code",
      "execution_count": null,
      "metadata": {
        "colab": {
          "base_uri": "https://localhost:8080/"
        },
        "id": "lW_VJj1uRmgU",
        "outputId": "e3f074d1-7f6e-4005-f3ef-faa6498dfce7"
      },
      "outputs": [
        {
          "output_type": "stream",
          "name": "stdout",
          "text": [
            "Enter a number: 7\n",
            "7  is an odd number.\n"
          ]
        }
      ],
      "source": [
        "'''\n",
        "Task 1: Check if a Number is Even or Odd\n",
        "Problem Statement:  Write a Python program that:\n",
        "1. \tTakes an integer input from the user.\n",
        "2. \tChecks whether the number is even or odd using an if-else statement.\n",
        "3. \tDisplays the result accordingly.\n",
        "'''\n",
        "n=int(input('Enter a number: '))\n",
        "if n%2==0:\n",
        "    print(n,' is an even number.')\n",
        "else:\n",
        "    print(n,' is an odd number.')\n"
      ]
    },
    {
      "cell_type": "code",
      "source": [
        "'''Task 2: Sum of Integers from 1 to 50 Using a Loop\n",
        "\n",
        "Problem Statement: Write a Python program that:\n",
        "1.   Uses a for loop to iterate over numbers from 1 to 50.\n",
        "2.   Calculates the sum of all integers in this range.\n",
        "3.   Displays the final sum.\n",
        "'''\n",
        "pSum=0\n",
        "for i in range(1,51):\n",
        "  pSum+=i\n",
        "print('The sum of numbers from 1 to 50 is:',pSum)"
      ],
      "metadata": {
        "colab": {
          "base_uri": "https://localhost:8080/"
        },
        "id": "4381dlbzSJym",
        "outputId": "a87fc885-31bf-4add-e786-4d7c088f5cb7"
      },
      "execution_count": null,
      "outputs": [
        {
          "output_type": "stream",
          "name": "stdout",
          "text": [
            "The sum of numbers from 1 to 50 is: 1275\n"
          ]
        }
      ]
    }
  ]
}