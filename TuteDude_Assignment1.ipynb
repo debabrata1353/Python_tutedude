{
  "nbformat": 4,
  "nbformat_minor": 0,
  "metadata": {
    "colab": {
      "provenance": [],
      "authorship_tag": "ABX9TyPMWt1ZPlWFTMdotTLzVRYp",
      "include_colab_link": true
    },
    "kernelspec": {
      "name": "python3",
      "display_name": "Python 3"
    },
    "language_info": {
      "name": "python"
    }
  },
  "cells": [
    {
      "cell_type": "markdown",
      "metadata": {
        "id": "view-in-github",
        "colab_type": "text"
      },
      "source": [
        "<a href=\"https://colab.research.google.com/github/debabrata1353/Python_tutedude/blob/main/TuteDude_Assignment1.ipynb\" target=\"_parent\"><img src=\"https://colab.research.google.com/assets/colab-badge.svg\" alt=\"Open In Colab\"/></a>"
      ]
    },
    {
      "cell_type": "code",
      "execution_count": null,
      "metadata": {
        "colab": {
          "base_uri": "https://localhost:8080/"
        },
        "collapsed": true,
        "id": "6euukEWYPabd",
        "outputId": "1cc04bf7-ac4b-45f1-e1c1-8364c5ef7822"
      },
      "outputs": [
        {
          "output_type": "stream",
          "name": "stdout",
          "text": [
            "enter the first number: 5\n",
            "enter the second number: 10\n",
            "Addition:  15\n",
            "Subtraction:  -5\n",
            "Multiplication:  50\n",
            "Division:  0.5\n"
          ]
        }
      ],
      "source": [
        "'''Task 1:\n",
        "Module 2: Basic Python Concepts\n",
        "\n",
        "Task 1: Perform Basic Mathematical Operations\n",
        "Problem Statement: Write a Python program that does the following:\n",
        "1.  Takes two numbers as input from the user.\n",
        "2.  Performs the basic mathematical operations on these two numbers:\n",
        "o\tAddition\n",
        "o\tSubtraction\n",
        "o\tMultiplication\n",
        "o\tDivision\n",
        "3.  Displays the results of each operation on the screen.\n",
        "'''\n",
        "\n",
        "a=int(input(\"enter the first number: \"))\n",
        "b=int(input(\"enter the second number: \"))\n",
        "print('Addition: ',a+b)\n",
        "print('Subtraction: ',a-b)\n",
        "print('Multiplication: ',a*b)\n",
        "print('Division: ',a/b)\n"
      ]
    },
    {
      "cell_type": "code",
      "source": [
        "'''Task 2: Create a Personalized Greeting\n",
        "Problem Statement: Write a Python program that:\n",
        "1.  Takes a user's first name and last name as input.\n",
        "2.  Concatenates the first name and last name into a full name.\n",
        "3.  Prints a personalized greeting message using the full name.\n",
        "'''\n",
        "fstName=input(\"Enter your first name: \")\n",
        "lstName=input(\"Enter your first name: \")\n",
        "print(\"Hello,\",fstName+\" \"+lstName+\"! Welcome to the Python program\")\n"
      ],
      "metadata": {
        "colab": {
          "base_uri": "https://localhost:8080/"
        },
        "id": "tEXtWWKNQHbr",
        "outputId": "1bf22124-a578-4b12-e388-8256c855350a"
      },
      "execution_count": null,
      "outputs": [
        {
          "output_type": "stream",
          "name": "stdout",
          "text": [
            "Enter your first name: John\n",
            "Enter your first name: Doe\n",
            "Hello, John Doe! Welcome to the Python program\n"
          ]
        }
      ]
    }
  ]
}